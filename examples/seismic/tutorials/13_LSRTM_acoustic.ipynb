{
 "cells": [
  {
   "cell_type": "markdown",
   "metadata": {},
   "source": [
    "# Implementation of a Devito acoustic Least-square Reverse time migration\n",
    "\n",
    "## This tutorial is contributed by SENAI CIMATEC (2021)\n",
    "\n",
    "This tutorial is based on:\n",
    "\n",
    "<br>**LEAST-SQUARES REVERSE TIME MIGRATION (LSRTM) IN THE SHOT DOMAIN** (2016)\n",
    "<br>Antonio Edson Lima de Oliveira, Reynam da Cruz Pestana and Adriano Wagner Gomes dos Santos\n",
    "<br>Brazilian Journal of Geopyisics\n",
    "<br>http://dx.doi.org/10.22564/rbgf.v34i3.831\n",
    "\n",
    "<br>**Plane-wave least-squares reverse-time migration** (2013)\n",
    "<br>Wei Dai and Gerard T. Schuster\n",
    "<br>GEOPHYSICS Technical Papers \n",
    "<br>http://dx.doi.org/10.22564/rbgf.v34i3.831\n",
    "\n",
    "<br>**Two-point step size gradient method** (1988)\n",
    "<br>Barzilai, J. and Borwein, J. \n",
    "<br>IMA Journal of Numerical Analysis \n",
    "<br>https://doi.org/10.1093/imanum/8.1.141"
   ]
  },
  {
   "cell_type": "markdown",
   "metadata": {},
   "source": [
    "## Introduction \n",
    "The goal of this tutorial is to implement and validate the Least-squares reverse time migration (LSRTM) using a 2D two-layered velocity model. The algorithm has been implemented using the Born's appoximation.\n",
    "\n",
    "For Born's implementation, a perturbation in the squared slowness $m = m_{0} + \\delta m$ produces an incident wavefield ( $p_{0}$ ) and scattered wavefield ( $\\delta p$ ), so the wavefield $p$ is approximated to $ p = p_0 + \\delta p$.\n",
    "\n",
    "into the constant-density acoustic wave equation, considering $s (\\mathbf{x},t) $ the source,\n",
    "\n",
    "\\begin{equation}\n",
    " (m_{0} + \\delta m) \\dfrac{\\partial^2 (p_0 + \\delta P)}{\\partial t^2} - \\nabla^2 (p_0 + \\delta P) = s (\\mathbf{x},t)   \\hspace{0.5cm}     (1)\n",
    "\\end{equation}\n",
    "\n",
    "Developing equation (1) we have:\n",
    "\\begin{equation}\n",
    "m_{0} \\dfrac{\\partial^2 p_0 }{\\partial t^2} - \\nabla^2 p_0 + m_{0} \\dfrac{\\partial^2 \\delta P }{\\partial t^2} - \\nabla^2\\delta P + \\delta m \\dfrac{\\partial^2 (p_{0} +\\delta P) }{\\partial t^2}= s (\\mathbf{x},t) \\hspace{0.5cm}    (2)\n",
    "\\end{equation}\n",
    "\n",
    "Combining the Born's approximation ( $p \\approx p_{0})$ into equation (2):\n",
    "\n",
    "\\begin{equation}\n",
    " \\left\\{\n",
    "\\begin{array}{lcl}\n",
    "m_{0} \\dfrac{\\partial^2 p_0 }{\\partial t^2} - \\nabla^2 p_0 = s (\\mathbf{x},t),\\hspace{0.5cm} (3) \\\\\n",
    "m_{0} \\dfrac{\\partial^2 \\delta P }{\\partial t^2} - \\nabla^2\\delta P = - \\delta m \\dfrac{\\partial^2 p_{0} }{\\partial t^2} \\hspace{0.5cm} (4) \\\\\n",
    "\\end{array}\n",
    "\\right.\n",
    "\\end{equation}\n",
    "\n",
    "Equations (3) and (4) are for Born modelling. The adjoint modelling is defined by the equation:\n",
    " \n",
    "\\begin{equation}\n",
    "m_{0} \\dfrac{\\partial^2 q}{\\partial t^2} - \\nabla^2 q =\\textbf{d}  \\hspace{0.5cm}     (5)\n",
    "\\end{equation}\n",
    "where $\\textbf{d}$ is the shot recorded.\n",
    "\n",
    "With all these equations, the migrated image can be constructed\n",
    "\n",
    "\\begin{equation}\n",
    "\\mathbf{m}= \\sum_{t} \\dfrac{\\partial^2 p_0}{\\partial t^2}q \\hspace{0.5cm}     (6)\n",
    "\\end{equation}\n",
    "\n",
    "The Least-square reverse time migration is an iterative method. After a first migration is done, the image is update iteratively\n",
    "\n",
    "\\begin{equation}\n",
    "\\textbf{m}_{k+1} = \\textbf{m}_k -\\alpha_k \\textbf{g}_k \\hspace{0.5cm}     (7)\n",
    "\\end{equation}\n",
    "where $\\textbf{g}_k$ is the gradient and $\\alpha_k$ is the step-length. The gradient computation is simply taking equation (3) and instead of injecting the shot recorded $\\textbf{d}$, injects the residue $\\textbf{d}_{calc}-\\textbf{d}_{obs}$\n",
    "\n",
    "For now we are going to import the utilities."
   ]
  },
  {
   "cell_type": "code",
   "execution_count": 1,
   "metadata": {},
   "outputs": [],
   "source": [
    "%matplotlib inline\n",
    "import numpy as np\n",
    "\n",
    "from devito import Operator,Eq,solve,Grid,SparseFunction,norm\n",
    "from devito import TimeFunction,Function\n",
    "from devito import gaussian_smooth\n",
    "from devito import mmax\n",
    "\n",
    "from devito.logger import info\n",
    "\n",
    "from examples.seismic import Model\n",
    "from examples.seismic import plot_velocity,plot_shotrecord\n",
    "from examples.seismic import Receiver\n",
    "from examples.seismic import PointSource\n",
    "from examples.seismic import plot_image,AcquisitionGeometry\n",
    "from examples.seismic import TimeAxis\n",
    "\n",
    "from examples.seismic.self_adjoint import (setup_w_over_q)\n",
    "from examples.seismic.acoustic import AcousticWaveSolver\n",
    "\n",
    "import matplotlib.pyplot as plt\n",
    "from mpl_toolkits.axes_grid1 import ImageGrid\n",
    "from mpl_toolkits.axes_grid1.axes_divider import make_axes_locatable\n",
    "import matplotlib.ticker as plticker\n",
    "\n",
    "from devito import configuration\n",
    "configuration['log-level'] = 'WARNING'"
   ]
  },
  {
   "cell_type": "markdown",
   "metadata": {},
   "source": [
    "# Seismic modelling with Devito"
   ]
  },
  {
   "cell_type": "markdown",
   "metadata": {},
   "source": [
    "Now let's import all the parameters needed and create the true 2D velocity model and the smoothed model to perform the Born's modelling."
   ]
  },
  {
   "cell_type": "code",
   "execution_count": 2,
   "metadata": {
    "scrolled": true
   },
   "outputs": [],
   "source": [
    "shape = (101, 101)  # Number of grid point (nx, nz)\n",
    "spacing = (10., 10.)  # Grid spacing in m. The domain size is now 1km by 1km\n",
    "origin = (0., 0.)  # What is the location of the top left corner. This is necessary to define\n",
    "\n",
    "fpeak = 0.010\n",
    "t0w = 1.0 / fpeak\n",
    "omega = 2.0 * np.pi * fpeak\n",
    "qmin = 0.1\n",
    "qmax = 100000\n",
    "npad=50\n",
    "dtype = np.float64\n",
    "\n",
    "nshots = 21\n",
    "nreceivers = 101\n",
    "t0 = 0.\n",
    "tn = 1000.  # Simulation last 1 second (1000 ms)\n",
    "f0 = 0.010  # Source peak frequency is 10Hz (0.010 kHz)\n",
    "filter_sigma = (5, 5) # Filter's length\n",
    "\n",
    "v = np.empty(shape, dtype=np.float64)\n",
    "\n",
    "# Define a velocity profile. The velocity is in km/s\n",
    "vp_top = 1.5\n",
    "\n",
    "v[:] = vp_top # Top velocity \n",
    "v[:, 30:65]= vp_top +0.5\n",
    "v[:, 65:101]= vp_top +1.5\n",
    "v[40:60, 35:55]= vp_top+1\n",
    "\n",
    "init_damp = lambda func, nbl: setup_w_over_q(func, omega, qmin, qmax, npad, sigma=0)\n",
    "model = Model(vp=v, origin=origin, shape=shape, spacing=spacing,\n",
    "              space_order=8, bcs=init_damp,nbl=npad,dtype=dtype)\n",
    "model0 = Model(vp=v, origin=origin, shape=shape, spacing=spacing,\n",
    "              space_order=8, bcs=init_damp,nbl=npad,dtype=dtype)\n",
    "\n",
    "dt = model.critical_dt \n",
    "s = model.grid.stepping_dim.spacing\n",
    "time_range = TimeAxis(start=t0, stop=tn, step=dt)\n",
    "nt=time_range.num"
   ]
  },
  {
   "cell_type": "code",
   "execution_count": 3,
   "metadata": {},
   "outputs": [
    {
     "data": {
      "image/png": "[encoded data removed]",
      "text/plain": [
       "<Figure size 576x432 with 2 Axes>"
      ]
     },
     "metadata": {
      "needs_background": "light"
     },
     "output_type": "display_data"
    },
    {
     "data": {
      "image/png": "[encoded data removed]",
      "text/plain": [
       "<Figure size 576x432 with 2 Axes>"
      ]
     },
     "metadata": {
      "needs_background": "light"
     },
     "output_type": "display_data"
    }
   ],
   "source": [
    "#NBVAL_IGNORE_OUTPUT\n",
    "# Create initial model and smooth the boundaries\n",
    "gaussian_smooth(model0.vp, sigma=filter_sigma)\n",
    "# Plot the true and initial model\n",
    "plot_velocity(model)\n",
    "plot_velocity(model0)"
   ]
  },
  {
   "cell_type": "markdown",
   "metadata": {},
   "source": [
    "Now we are going to set the source and receiver position."
   ]
  },
  {
   "cell_type": "code",
   "execution_count": 4,
   "metadata": {},
   "outputs": [],
   "source": [
    "# First, position source centrally in all dimensions, then set depth\n",
    "src_coordinates = np.empty((1, 2))\n",
    "src_coordinates[0, :] = np.array(model.domain_size) * .5\n",
    "src_coordinates[0, -1] = 20.  # Depth is 20m\n",
    "\n",
    "# Define acquisition geometry: receivers\n",
    "\n",
    "# Initialize receivers for synthetic and imaging data\n",
    "rec_coordinates = np.empty((nreceivers, 2))\n",
    "rec_coordinates[:, 0] = np.linspace(0, model.domain_size[0], num=nreceivers)\n",
    "rec_coordinates[:, 1] = 30.\n",
    "\n",
    "# Geometry\n",
    "geometry = AcquisitionGeometry(model, rec_coordinates, src_coordinates, t0, tn, f0=.010, src_type='Ricker')\n",
    "\n",
    "solver = AcousticWaveSolver(model, geometry, space_order=8)"
   ]
  },
  {
   "cell_type": "code",
   "execution_count": 5,
   "metadata": {},
   "outputs": [],
   "source": [
    "source_locations = np.empty((nshots, 2), dtype=np.float64)\n",
    "source_locations[:, 0] = np.linspace(0., 1000, num=nshots)\n",
    "source_locations[:, 1] = 30."
   ]
  },
  {
   "cell_type": "code",
   "execution_count": 6,
   "metadata": {},
   "outputs": [],
   "source": [
    "def plot_image_mask(data, vmin=None, vmax=None, colorbar=True, cmap=\"jet\"):\n",
    "    \"\"\"\n",
    "    Plot image data, such as RTM images or FWI gradients.\n",
    "\n",
    "    Parameters\n",
    "    ----------\n",
    "    data : ndarray\n",
    "        Image data to plot.\n",
    "    cmap : str\n",
    "        Choice of colormap. Defaults to gray scale for images as a\n",
    "        seismic convention.\n",
    "    \"\"\"\n",
    "    plot = plt.imshow(np.transpose(data),\n",
    "                      vmin= np.min(data),\n",
    "                      vmax= np.max(data),\n",
    "                      cmap=cmap)\n",
    "\n",
    "    # Create aligned colorbar on the right\n",
    "    if colorbar:\n",
    "        ax = plt.gca()\n",
    "        divider = make_axes_locatable(ax)\n",
    "        cax = divider.append_axes(\"right\", size=\"5%\", pad=0.05)\n",
    "        plt.colorbar(plot, cax=cax)\n",
    "    plt.show()"
   ]
  },
  {
   "cell_type": "markdown",
   "metadata": {},
   "source": [
    "We are going to compute the LSRTM gradient."
   ]
  },
  {
   "cell_type": "code",
   "execution_count": 7,
   "metadata": {},
   "outputs": [],
   "source": [
    "def lsrtm_gradient(dm):\n",
    "    \n",
    "    residual_shot = Receiver(name='residual_shot', grid=model.grid, time_range=geometry.time_axis,\n",
    "                   coordinates=geometry.rec_positions)\n",
    "\n",
    "    residual = Receiver(name='residual', grid=model.grid, time_range=geometry.time_axis,\n",
    "                        coordinates=geometry.rec_positions)\n",
    "    \n",
    "    d_obs = Receiver(name='d_obs', grid=model.grid,time_range=geometry.time_axis,\n",
    "                         coordinates=geometry.rec_positions)\n",
    "\n",
    "    d_syn = Receiver(name='d_syn', grid=model.grid,time_range=geometry.time_axis,\n",
    "                         coordinates=geometry.rec_positions)\n",
    "    \n",
    "    grad_full = Function(name='grad_full', grid=model.grid)\n",
    "    \n",
    "    grad_illum = Function(name='grad_illum', grid=model.grid)\n",
    "    \n",
    "    src_illum = Function (name =\"src_illum\", grid = model.grid)\n",
    "\n",
    "    # Using devito's reference of virtual source\n",
    "    dm_true =  (solver.model.vp.data**(-2) - model0.vp.data**(-2))\n",
    "    \n",
    "    objective = 0.\n",
    "    for i in range(nshots):\n",
    "        \n",
    "        #Observed Data using Born's operator\n",
    "        geometry.src_positions[0, :] = source_locations[i, :]\n",
    "\n",
    "        _, u0, _ = solver.forward(vp=model0.vp, save=True)\n",
    "        \n",
    "        _, _, _,_ = solver.jacobian(dm_true, vp=model0.vp, rec = d_obs)\n",
    "        \n",
    "        #Calculated Data using Born's operator\n",
    "        solver.jacobian(dm, vp=model0.vp, rec = d_syn)\n",
    "        \n",
    "        residual.data[:] = d_syn.data[:]- d_obs.data[:]\n",
    "     \n",
    "        grad_shot,_ = solver.gradient(rec=residual, u=u0, vp=model0.vp)\n",
    "        \n",
    "        src_illum_upd =  Eq(src_illum, src_illum + u0**2)\n",
    "        op_src = Operator([src_illum_upd])\n",
    "        op_src.apply()\n",
    "              \n",
    "        # Mask application over the gradient\n",
    "        grad_sum = Eq(grad_full, grad_full  + grad_shot)\n",
    "        op_grad = Operator([grad_sum])\n",
    "        op_grad.apply()\n",
    "        \n",
    "        grad_f = Eq(grad_illum, grad_full/(src_illum+10-9))\n",
    "        op_gradf = Operator([grad_f])\n",
    "        op_gradf.apply()\n",
    "                \n",
    "        objective += .5*norm(residual)**2\n",
    "        residual_shot.data[:][:] += residual.data[:][:]\n",
    "\n",
    "    return objective,residual_shot,grad_illum,d_obs,d_syn"
   ]
  },
  {
   "cell_type": "markdown",
   "metadata": {},
   "source": [
    "For the first LSRTM iteration, we used a quite simple step-length using the maximum value of the gradient. For the other LSRTM iterations we used the step-length proposed by Barzilai Borwein.\n",
    "\\begin{equation}\n",
    "\\alpha_{k}^{BB1} = \\frac{\\mathbf{s}_{k-1}^{T}\\mathbf{s}_{k-1}}{\\mathbf{s}_{k-1}^{T}\\mathbf{y}_{k-1}}\n",
    "\\end{equation}\n",
    "where $\\textbf{s}_{k-1} = \\textbf{m}_{k}-\\textbf{m}_{k-1}$ e $\\textbf{y}_{k-1} = \\textbf{g}_{k}-\\textbf{g}_{k-1}$\n",
    "\n",
    "A second option is:\n",
    "\\begin{equation}\n",
    "\\alpha_{k}^{BB2} = \\frac{\\mathbf{s}_{k-1}^{T}\\mathbf{y}_{k-1}}{\\mathbf{y}_{k-1}^{T}\\mathbf{y}_{k-1}}\n",
    "\\end{equation}\n",
    "\n",
    "\\begin{equation}\n",
    "\\alpha_{k} = \n",
    "\\begin{cases}\n",
    "\\alpha_{k}^{BB2},& \\text{if}\\ 0 < \\frac{\\alpha_{k}^{BB2}}{\\alpha_{k}^{BB1}} < 1 \\\\\n",
    "\\alpha_{k}^{BB1},& \\text{else}\n",
    "\\end{cases}\n",
    "\\end{equation}"
   ]
  },
  {
   "cell_type": "code",
   "execution_count": 8,
   "metadata": {},
   "outputs": [],
   "source": [
    "def get_alfa(grad_iter,image_iter,niter_lsrtm):\n",
    "    \n",
    "     \n",
    "    term1 = np.dot(image_iter.reshape(-1), image_iter.reshape(-1))\n",
    "    \n",
    "    term2 = np.dot(image_iter.reshape(-1), grad_iter.reshape(-1))\n",
    "    \n",
    "    term3 = np.dot(grad_iter.reshape(-1), grad_iter.reshape(-1))\n",
    "    \n",
    "    if niter_lsrtm == 0:\n",
    "           \n",
    "        alfa = .05 / mmax(grad_full)\n",
    "    \n",
    "    else:\n",
    "        abb1 = term1 / term2\n",
    "        \n",
    "        abb2 = term2 / term3\n",
    "        \n",
    "        abb3 = abb2 / abb1\n",
    "        \n",
    "        if abb3 > 0 and abb3 < 1:\n",
    "            alfa = abb2\n",
    "        else:\n",
    "            alfa = abb1\n",
    "            \n",
    "    return alfa   "
   ]
  },
  {
   "cell_type": "code",
   "execution_count": null,
   "metadata": {
    "scrolled": false
   },
   "outputs": [
    {
     "name": "stdout",
     "output_type": "stream",
     "text": [
      "LSRTM Iteration 1\n",
      "LSRTM Iteration 2\n",
      "LSRTM Iteration 3\n"
     ]
    },
    {
     "name": "stderr",
     "output_type": "stream",
     "text": [
      "Trying to allocate more memory for symbol u than available on physical device, this will start swapping\n"
     ]
    }
   ],
   "source": [
    "image_up_dev = np.zeros((model0.vp.shape[0], model0.vp.shape[1]))\n",
    "\n",
    "image = np.zeros((model0.vp.shape[0], model0.vp.shape[1]))\n",
    "\n",
    "nrec=101\n",
    "niter=20 # number of iterations of the LSRTM\n",
    "history = np.zeros((niter, 1)) #objective function\n",
    "history_norm = np.zeros((niter, 1)) # normalized objective function\n",
    "\n",
    "residual_k = np.zeros((niter, geometry.nt,model.shape[1]))\n",
    "\n",
    "image_iter = np.zeros((niter, model0.vp.shape[0],model0.vp.shape[1]))\n",
    "    \n",
    "grad_iter = np.zeros((niter, model0.vp.shape[0],model0.vp.shape[1]))\n",
    "\n",
    "for k in range(niter) :\n",
    "    \n",
    "    residual_num = np.zeros((geometry.nt,model.shape[1]))\n",
    "    \n",
    "    dm =  image_up_dev # Reflectivity for Calculated data via Born\n",
    "\n",
    "    print('LSRTM Iteration',k+1)\n",
    "        \n",
    "    objective,residual_shot,grad_full,d_obs,d_syn = lsrtm_gradient(dm)\n",
    "    \n",
    "    residual_k[k] = residual_shot.data\n",
    "    \n",
    "    history[k] = objective\n",
    "    \n",
    "    residual_num = residual_k[k-1]-residual_k[k]\n",
    "    \n",
    "    history_norm[k] =np.linalg.norm(residual_num)**2/np.linalg.norm(residual_k)**2\n",
    "    \n",
    "    grad_iter[k] = grad_full.data - grad_iter[k-1]\n",
    "    \n",
    "    image_iter[k] = image_up_dev.data - image_iter[k-1]\n",
    "       \n",
    "    alfa = get_alfa(grad_iter[k],image_iter[k],k)\n",
    "       \n",
    "    image_up_dev = image_up_dev - alfa*grad_full.data\n",
    "    \n",
    "    if k == 0: # Saving the first migration using Born operator.\n",
    "        \n",
    "        image = image_up_dev\n",
    "               \n",
    "    if history_norm[k] <= 1*10e-8:\n",
    "        break"
   ]
  },
  {
   "cell_type": "code",
   "execution_count": null,
   "metadata": {},
   "outputs": [],
   "source": [
    "#NBVAL_SKIP\n",
    "plt.figure()\n",
    "plt.plot(history)\n",
    "plt.xlabel('Iteration number')\n",
    "plt.ylabel('Misift value Phi')\n",
    "plt.title('Convergence')\n",
    "plt.show()"
   ]
  },
  {
   "cell_type": "code",
   "execution_count": null,
   "metadata": {},
   "outputs": [],
   "source": [
    "#NBVAL_SKIP\n",
    "plt.figure(figsize=(20,8))\n",
    "plt.subplot(1, 2, 1)\n",
    "plt.plot(history_norm)\n",
    "plt.xlabel('Iteration number')\n",
    "plt.ylabel('Misift value Phi normalized')\n",
    "plt.title('Convergence')\n",
    "plt.subplot(1, 2, 2)\n",
    "plt.plot(history_norm)\n",
    "plt.xlabel('Iteration number')\n",
    "plt.ylabel('Misift value Phi normalized ( zoom in)')\n",
    "plt.title('Convergence')\n",
    "plt.xlim(1,18)\n",
    "plt.ylim(0,0.1)\n",
    "plt.tight_layout()\n",
    "plt.show()"
   ]
  },
  {
   "cell_type": "markdown",
   "metadata": {},
   "source": [
    "Now we have the first migration, and the reflector is not focused and still there is the backscaterring noise."
   ]
  },
  {
   "cell_type": "code",
   "execution_count": null,
   "metadata": {},
   "outputs": [],
   "source": [
    "#NBVAL_IGNORE_OUTPUT\n",
    "slices=tuple(slice(model.nbl,-model.nbl) for _ in range(2))\n",
    "image_ori=image[slices]\n",
    "plot_image(np.diff(image_ori, axis=1))"
   ]
  },
  {
   "cell_type": "markdown",
   "metadata": {},
   "source": [
    "So here we have the LSRTM migration after 20 iterations, it is clear that the reflector is well focused and backscaterring noise has gone."
   ]
  },
  {
   "cell_type": "code",
   "execution_count": null,
   "metadata": {},
   "outputs": [],
   "source": [
    "#NBVAL_SKIP\n",
    "slices=tuple(slice(model.nbl,-model.nbl) for _ in range(2))\n",
    "imagef=image_up_dev[slices]\n",
    "plot_image(np.diff(imagef, axis=1))"
   ]
  },
  {
   "cell_type": "markdown",
   "metadata": {},
   "source": [
    "Here we have the true reflectivity. The idea in showing it is to demonstrate that the amplitude range of the LSRTM is in the same amplitude range of the true reflectivity."
   ]
  },
  {
   "cell_type": "code",
   "execution_count": null,
   "metadata": {},
   "outputs": [],
   "source": [
    "#NBVAL_IGNORE_OUTPUT\n",
    "slices=tuple(slice(model.nbl,-model.nbl) for _ in range(2))\n",
    "image_true=(solver.model.vp.data**(-2) - model0.vp.data**(-2))[slices]\n",
    "plot_image(np.diff(image_true, axis=1))"
   ]
  },
  {
   "cell_type": "code",
   "execution_count": null,
   "metadata": {},
   "outputs": [],
   "source": [
    "#NBVAL_SKIP\n",
    "plt.plot(image_ori[50,:], 'red')\n",
    "plt.plot(imagef[50,:], 'b--')\n",
    "plt.plot(image_true[50,:], 'magenta')\n",
    "plt.legend(['Initial reflectivity', 'Reflectivity via LSRTM','True Reflectivity'],fontsize=12)\n",
    "plt.ylabel('Amplitude')\n",
    "plt.show()"
   ]
  },
  {
   "cell_type": "code",
   "execution_count": null,
   "metadata": {},
   "outputs": [],
   "source": [
    "#NBVAL_SKIP\n",
    "time = np.linspace(t0, tn, nt)\n",
    "plt.figure(figsize=(8,9))\n",
    "plt.ylabel('Time (ms)')\n",
    "plt.xlabel('Amplitude')\n",
    "plt.plot(d_syn.data[:, 0],time, 'y', label='Calculated data (Last Iteration)')\n",
    "plt.plot(d_obs.data[:, 0],time, 'm', label='Observed data')\n",
    "plt.legend(loc=\"upper left\",fontsize=12)\n",
    "ax = plt.gca()\n",
    "ax.invert_yaxis()\n",
    "plt.show()"
   ]
  }
 ],
 "metadata": {
  "kernelspec": {
   "display_name": "Python 3",
   "language": "python",
   "name": "python3"
  },
  "language_info": {
   "codemirror_mode": {
    "name": "ipython",
    "version": 3
   },
   "file_extension": ".py",
   "mimetype": "text/x-python",
   "name": "python",
   "nbconvert_exporter": "python",
   "pygments_lexer": "ipython3",
   "version": "3.9.1"
  }
 },
 "nbformat": 4,
 "nbformat_minor": 4
}
