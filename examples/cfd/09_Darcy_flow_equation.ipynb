{
  "nbformat": 4,
  "nbformat_minor": 0,
  "metadata": {
    "colab": {
      "provenance": [],
      "collapsed_sections": []
    },
    "kernelspec": {
      "name": "python3",
      "display_name": "Python 3"
    },
    "language_info": {
      "name": "python"
    }
  },
  "cells": [
    {
      "cell_type": "markdown",
      "source": [
        "## Example: The Darcy flow equation"
      ],
      "metadata": {
        "id": "r8k6R0vOzMTM"
      }
    },
    {
      "cell_type": "markdown",
      "source": [
        "In this example, the Darcy flow equation is used to model single phase fluid flow through a porous medium. Given an input permeability field, $ a(x) $, and the forcing function, $f(x)$, the output pressure flow $u(x)$ can be calculated using the following equation:\n",
        "$$\n",
        "-\\nabla\\cdot(a(x)\\nabla u(x)) = f(x) \\qquad x \\in (0,1)^2\n",
        "$$\n",
        "With Dirchlet boundary conditions: \n",
        "$$\n",
        "u(x) = 0 \\qquad x\\in \\partial(0,1)^2\n",
        "$$\n",
        "For this example, the forcing function $f(x) = 1$. "
      ],
      "metadata": {
        "id": "gXARUDah6yDq"
      }
    },
    {
      "cell_type": "markdown",
      "source": [
        "First, lets import the relevant utilities, including a python script from https://github.com/zongyi-li/fourier_neural_operator/blob/master/data_generation/navier_stokes/random_fields.py that is used to generate Gaussian random functions for the permeability inputs."
      ],
      "metadata": {
        "id": "4hQiyDqp-bWZ"
      }
    },
    {
      "cell_type": "code",
      "source": [
        "import math\n",
        "import torch\n",
        "from devito import div, grad, Eq, Operator, TimeFunction, Function, solve, Grid, configuration\n",
        "import numpy as np\n",
        "import matplotlib.pyplot as plt\n",
        "from mpl_toolkits.axes_grid1 import make_axes_locatable"
      ],
      "metadata": {
        "id": "pfUqcLDs1Gmz"
      },
      "execution_count": 1,
      "outputs": []
    },
    {
      "cell_type": "markdown",
      "source": [
        "This is the class used to define a Gaussian random field for the input:"
      ],
      "metadata": {
        "id": "oemSkYcwfhUK"
      }
    },
    {
      "cell_type": "code",
      "source": [
        "# code edited from  https://github.com/zongyi-li/fourier_neural_operator/blob/master/data_generation/navier_stokes/random_fields.py\n",
        "class GaussianRF(object):\n",
        "\n",
        "    def __init__(self, dim, size, alpha=2, tau=3, sigma=None, boundary=\"periodic\", device=None):\n",
        "\n",
        "        self.dim = dim\n",
        "        self.device = device\n",
        "\n",
        "        if sigma is None:\n",
        "            sigma = tau**(0.5*(2*alpha - self.dim))\n",
        "\n",
        "        k_max = size//2\n",
        "\n",
        "        if dim == 2:\n",
        "            wavenumers = torch.cat((torch.arange(start=0, end=k_max, step=1, device=device), \\\n",
        "                                    torch.arange(start=-k_max, end=0, step=1, device=device)), 0).repeat(size,1)\n",
        "\n",
        "            k_x = wavenumers.transpose(0,1)\n",
        "            k_y = wavenumers\n",
        "\n",
        "            self.sqrt_eig = (size**2)*math.sqrt(2.0)*sigma*((4*(math.pi**2)*(k_x**2 + k_y**2) + tau**2)**(-alpha/2.0))\n",
        "            self.sqrt_eig[0,0] = 0.0\n",
        "\n",
        "        self.size = []\n",
        "        for j in range(self.dim):\n",
        "            self.size.append(size)\n",
        "\n",
        "        self.size = tuple(self.size)\n",
        "\n",
        "    def sample(self, N):\n",
        "\n",
        "        coeff = torch.randn(N, *self.size, dtype=torch.cfloat, device=self.device)\n",
        "        coeff = self.sqrt_eig * coeff\n",
        "        \n",
        "\n",
        "        return torch.fft.ifftn(coeff, dim=list(range(-1, -self.dim - 1, -1))).real"
      ],
      "metadata": {
        "id": "NHPg4zwifI10"
      },
      "execution_count": 2,
      "outputs": []
    },
    {
      "cell_type": "markdown",
      "source": [
        "Next, lets declare the variables to be used and create a grid for the functions:"
      ],
      "metadata": {
        "id": "pOft2icQGDCI"
      }
    },
    {
      "cell_type": "code",
      "source": [
        "# Silence the runtime performance logging\n",
        "configuration['log-level'] = 'ERROR'\n",
        "\n",
        "# number of grid points on [0,1]^2 \n",
        "s = 256\n",
        "\n",
        "# create s x s grid with spacing 1\n",
        "grid = Grid(shape=(s, s), extent=(1.0,1.0))\n",
        "\n",
        "x, y = grid.dimensions\n",
        "t = grid.stepping_dim"
      ],
      "metadata": {
        "id": "MSLzCGkeGMFt"
      },
      "execution_count": 3,
      "outputs": []
    },
    {
      "cell_type": "markdown",
      "source": [
        "Here we produce input data to be used as permeability samples. First, the Gaussian random field class is called, then a threshold is introduced, where anything less than 0 is 4 and values above or equal to 0 is 12. This produces permeability samples similar to real world applications. "
      ],
      "metadata": {
        "id": "NycndcDQCkyZ"
      }
    },
    {
      "cell_type": "code",
      "source": [
        "# Set up 2d GRF with covariance parameters to generate random coefficients\n",
        "norm_a = GaussianRF(2, s, alpha=2, tau=3)\n",
        "\n",
        "#Sample random fields\n",
        "# create a threshold, either 4 or 12 (common for permeability)\n",
        "thresh_a = norm_a.sample(1)\n",
        "thresh_a[thresh_a>=0] = 12\n",
        "thresh_a[thresh_a<0] = 4\n",
        "\n",
        "# The input:\n",
        "w1 = thresh_a[0]"
      ],
      "metadata": {
        "id": "oR6aTcyhAZb_"
      },
      "execution_count": 4,
      "outputs": []
    },
    {
      "cell_type": "markdown",
      "source": [
        "plotting the input:"
      ],
      "metadata": {
        "id": "cNp4LBpwfq9c"
      }
    },
    {
      "cell_type": "code",
      "source": [
        "# plot to show the input:\n",
        "ax = plt.subplot()\n",
        "im1 = ax.imshow(w1, interpolation='none')\n",
        "divider = make_axes_locatable(ax)\n",
        "cax = divider.append_axes(\"right\", size=\"5%\", pad=0.05)\n",
        "plt.colorbar(im1, cax=cax)\n",
        "plt.show()"
      ],
      "metadata": {
        "colab": {
          "base_uri": "https://localhost:8080/",
          "height": 269
        },
        "id": "8TJvO-MhfwKW",
        "outputId": "6da22b3b-03de-41ca-bebe-3ec1cb80b6c6"
      },
      "execution_count": 5,
      "outputs": [
        {
          "output_type": "display_data",
          "data": {
            "text/plain": [
              "<Figure size 432x288 with 2 Axes>"
            ],
            "image/png": "[encoded data removed]"
          },
          "metadata": {
            "needs_background": "light"
          }
        }
      ]
    },
    {
      "cell_type": "markdown",
      "source": [
        "There is no time dependence for this equation, so $ a $ and $ f $ are defined as `function` objects, however the output $u$ is defined as a `Timefunction` object in order to implement a pseudo-timestepping loop, using `u` and `u.forward` as alternating buffers. "
      ],
      "metadata": {
        "id": "6ivrhF89Ao2P"
      }
    },
    {
      "cell_type": "code",
      "source": [
        "# Forcing function, f(x) = 1 \n",
        "f = np.ones((s, s))\n",
        "\n",
        "# create function on grid\n",
        "# space order of 2 to enable 2nd derivative\n",
        "# TimeFunction for u can be used despite the lack of a time-dependence. This is done for psuedotime\n",
        "u = TimeFunction(name='u', grid=grid, space_order=2)\n",
        "a = Function(name='a', grid=grid, space_order=2)\n",
        "f1 = Function(name='f1', grid=grid, space_order=2)"
      ],
      "metadata": {
        "id": "Ij6oBLWc3gUQ"
      },
      "execution_count": 6,
      "outputs": []
    },
    {
      "cell_type": "markdown",
      "source": [
        "Define the equation using symbolic code:"
      ],
      "metadata": {
        "id": "BAv2binzGrFW"
      }
    },
    {
      "cell_type": "code",
      "source": [
        "# define 2D Darcy flow equation\n",
        "equation_u = Eq(-a*u.laplace,f1)"
      ],
      "metadata": {
        "id": "EdLNON8dGxVc"
      },
      "execution_count": 7,
      "outputs": []
    },
    {
      "cell_type": "markdown",
      "source": [
        "SymPy creates a stencil to reorganise the equation based on `u`, but when creating the update expression, `u.forward` is used in order to stop `u` being overwritten:"
      ],
      "metadata": {
        "id": "8NqTAM-9GjJg"
      }
    },
    {
      "cell_type": "code",
      "source": [
        "# Let SymPy solve for the central stencil point\n",
        "stencil = solve(equation_u, u)\n",
        "\n",
        "# Let our stencil populate the buffer `u.forward`\n",
        "update = Eq(u.forward, stencil)"
      ],
      "metadata": {
        "id": "mAv0bMVgGnSX"
      },
      "execution_count": 8,
      "outputs": []
    },
    {
      "cell_type": "markdown",
      "source": [
        "Define the boundary conditions and create the operator:"
      ],
      "metadata": {
        "id": "M2JuvZ5AG2Og"
      }
    },
    {
      "cell_type": "code",
      "source": [
        "# Boundary Conds\n",
        "nx = s\n",
        "ny = s\n",
        "bc = [Eq(u[t+1, 0, y],u[t+1, 1,y])]  # du/dx = 0 for x=0.\n",
        "bc += [Eq(u[t+1,nx-1, y],u[t+1,nx-2, y])]  # du/dx = 0 for x=1.\n",
        "bc += [Eq(u[t+1, x, 0],u[t+1,x ,1])]  # du/dx = 0 at y=0\n",
        "bc += [Eq(u[t+1, x, ny-1],u[t+1, x, ny-2])]  # du/dx=0 for y=1\n",
        "# u=0 for all sides\n",
        "bc = [Eq(u[t+1, x, 0], 0.)]\n",
        "bc += [Eq(u[t+1, x, ny-1], 0.)]\n",
        "bc += [Eq(u[t+1, 0, y], 0.)]\n",
        "bc += [Eq(u[t+1, nx-1, y], 0.)]\n",
        "\n",
        "op = Operator([update] + bc)"
      ],
      "metadata": {
        "id": "jUrNjJcKG57j"
      },
      "execution_count": 9,
      "outputs": []
    },
    {
      "cell_type": "markdown",
      "source": [
        "Finally, the output is produced using the input data generated:"
      ],
      "metadata": {
        "id": "8syYE6J-C4os"
      }
    },
    {
      "cell_type": "code",
      "source": [
        "# a(x) is the coefficients\n",
        "# f is the forcing function\n",
        "# give the a and f1 functions the same data as inputs w1 and f\n",
        "\n",
        "f1.data[:] = f[:]\n",
        "a.data[:] = w1[:]"
      ],
      "metadata": {
        "id": "cxkNi8PcAePA"
      },
      "execution_count": 10,
      "outputs": []
    },
    {
      "cell_type": "markdown",
      "source": [
        "Call the operator to produce the output:"
      ],
      "metadata": {
        "id": "YT-xQkXAgUVJ"
      }
    },
    {
      "cell_type": "code",
      "source": [
        "# call operator for the 15,000th psuedo-timestep\n",
        "op(time= 15000)\n",
        "\n",
        "output = u.data[0]"
      ],
      "metadata": {
        "id": "_A2S8t_rga0J"
      },
      "execution_count": 11,
      "outputs": []
    },
    {
      "cell_type": "markdown",
      "source": [
        "Plot the output:"
      ],
      "metadata": {
        "id": "54fdJbzSgabQ"
      }
    },
    {
      "cell_type": "code",
      "source": [
        "# plot to show the output: \n",
        "ax = plt.subplot()\n",
        "im1 = ax.imshow(output, interpolation='none')\n",
        "divider = make_axes_locatable(ax)\n",
        "cax = divider.append_axes(\"right\", size=\"5%\", pad=0.05)\n",
        "plt.colorbar(im1, cax=cax)\n",
        "plt.show()"
      ],
      "metadata": {
        "colab": {
          "base_uri": "https://localhost:8080/",
          "height": 269
        },
        "id": "PelbjXRFgv4P",
        "outputId": "4d1e382c-d3ca-477e-a79d-4aa7838851be"
      },
      "execution_count": 12,
      "outputs": [
        {
          "output_type": "display_data",
          "data": {
            "text/plain": [
              "<Figure size 432x288 with 2 Axes>"
            ],
            "image/png": "[encoded data removed]"
          },
          "metadata": {
            "needs_background": "light"
          }
        }
      ]
    },
    {
      "cell_type": "markdown",
      "source": [
        "This output shows the flow of pressure given the permeability sample seen above. The results are as expected as a higher pressure is seen in the largest area that contains the lower permeability of 4."
      ],
      "metadata": {
        "id": "o_4fdGmigwnp"
      }
    }
  ]
}
